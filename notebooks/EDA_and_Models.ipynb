{
 "cells": [
  {
   "cell_type": "markdown",
   "id": "9605743a",
   "metadata": {},
   "source": [
    "# Proyecto: NPL Spam Classifier - URL's\n",
    "\n",
    "Autor: Angel Reséndiz Plata<br>\n",
    "Descripción: Detección de las URL's spam usando Natural Language Process y Machine Learning"
   ]
  },
  {
   "cell_type": "markdown",
   "id": "339f6195",
   "metadata": {},
   "source": [
    "## Importación de librerías"
   ]
  },
  {
   "cell_type": "code",
   "execution_count": 1,
   "id": "42e62f65",
   "metadata": {},
   "outputs": [],
   "source": [
    "import pandas as pd\n",
    "import numpy as np\n",
    "import seaborn as sns\n",
    "import matplotlib.pyplot as plt\n",
    "from sklearn.model_selection import train_test_split\n",
    "from sklearn.feature_extraction.text import CountVectorizer\n",
    "from sklearn.linear_model import LogisticRegression\n",
    "from sklearn.ensemble import RandomForestClassifier\n",
    "from sklearn.metrics import classification_report, confusion_matrix, accuracy_score\n",
    "import xgboost as xgb"
   ]
  },
  {
   "cell_type": "markdown",
   "id": "decfefcf",
   "metadata": {},
   "source": [
    "## Cargar el dataset"
   ]
  },
  {
   "cell_type": "code",
   "execution_count": 19,
   "id": "cff8f574",
   "metadata": {},
   "outputs": [
    {
     "data": {
      "application/vnd.microsoft.datawrangler.viewer.v0+json": {
       "columns": [
        {
         "name": "index",
         "rawType": "int64",
         "type": "integer"
        },
        {
         "name": "url",
         "rawType": "object",
         "type": "string"
        },
        {
         "name": "is_spam",
         "rawType": "bool",
         "type": "boolean"
        }
       ],
       "ref": "6fd17f6d-3682-4aa7-bb3a-8bb722e56153",
       "rows": [
        [
         "0",
         "https://briefingday.us8.list-manage.com/unsubscribe",
         "True"
        ],
        [
         "1",
         "https://www.hvper.com/",
         "True"
        ],
        [
         "2",
         "https://briefingday.com/m/v4n3i4f3",
         "True"
        ],
        [
         "3",
         "https://briefingday.com/n/20200618/m#commentform",
         "False"
        ],
        [
         "4",
         "https://briefingday.com/fan",
         "True"
        ]
       ],
       "shape": {
        "columns": 2,
        "rows": 5
       }
      },
      "text/html": [
       "<div>\n",
       "<style scoped>\n",
       "    .dataframe tbody tr th:only-of-type {\n",
       "        vertical-align: middle;\n",
       "    }\n",
       "\n",
       "    .dataframe tbody tr th {\n",
       "        vertical-align: top;\n",
       "    }\n",
       "\n",
       "    .dataframe thead th {\n",
       "        text-align: right;\n",
       "    }\n",
       "</style>\n",
       "<table border=\"1\" class=\"dataframe\">\n",
       "  <thead>\n",
       "    <tr style=\"text-align: right;\">\n",
       "      <th></th>\n",
       "      <th>url</th>\n",
       "      <th>is_spam</th>\n",
       "    </tr>\n",
       "  </thead>\n",
       "  <tbody>\n",
       "    <tr>\n",
       "      <th>0</th>\n",
       "      <td>https://briefingday.us8.list-manage.com/unsubs...</td>\n",
       "      <td>True</td>\n",
       "    </tr>\n",
       "    <tr>\n",
       "      <th>1</th>\n",
       "      <td>https://www.hvper.com/</td>\n",
       "      <td>True</td>\n",
       "    </tr>\n",
       "    <tr>\n",
       "      <th>2</th>\n",
       "      <td>https://briefingday.com/m/v4n3i4f3</td>\n",
       "      <td>True</td>\n",
       "    </tr>\n",
       "    <tr>\n",
       "      <th>3</th>\n",
       "      <td>https://briefingday.com/n/20200618/m#commentform</td>\n",
       "      <td>False</td>\n",
       "    </tr>\n",
       "    <tr>\n",
       "      <th>4</th>\n",
       "      <td>https://briefingday.com/fan</td>\n",
       "      <td>True</td>\n",
       "    </tr>\n",
       "  </tbody>\n",
       "</table>\n",
       "</div>"
      ],
      "text/plain": [
       "                                                 url  is_spam\n",
       "0  https://briefingday.us8.list-manage.com/unsubs...     True\n",
       "1                             https://www.hvper.com/     True\n",
       "2                 https://briefingday.com/m/v4n3i4f3     True\n",
       "3   https://briefingday.com/n/20200618/m#commentform    False\n",
       "4                        https://briefingday.com/fan     True"
      ]
     },
     "execution_count": 19,
     "metadata": {},
     "output_type": "execute_result"
    }
   ],
   "source": [
    "url = r\"C:\\Users\\Angel Resendiz Plata\\OneDrive\\Documentos\\Programación\\Proyectos personales\\Natural_language_process\\NPL_Spam_Classifier2\\data\\url_spam.csv\"\n",
    "df = pd.read_csv(url)\n",
    "df.head()"
   ]
  },
  {
   "cell_type": "markdown",
   "id": "ffc6b780",
   "metadata": {},
   "source": [
    "## EDA"
   ]
  },
  {
   "cell_type": "code",
   "execution_count": 20,
   "id": "8eed884e",
   "metadata": {},
   "outputs": [
    {
     "data": {
      "image/png": "[encoded data removed]",
      "text/plain": [
       "<Figure size 640x480 with 1 Axes>"
      ]
     },
     "metadata": {},
     "output_type": "display_data"
    }
   ],
   "source": [
    "sns.countplot(x = \"is_spam\", data = df)\n",
    "plt.title(\"Distribución de URL's Spam VS No_spam\")\n",
    "plt.show()"
   ]
  },
  {
   "cell_type": "markdown",
   "id": "9ecb5502",
   "metadata": {},
   "source": [
    "## Preprocesamiento"
   ]
  },
  {
   "cell_type": "code",
   "execution_count": 22,
   "id": "e4fc32db",
   "metadata": {},
   "outputs": [],
   "source": [
    "X = df[\"url\"]\n",
    "y = df[\"is_spam\"]\n",
    "X_train, X_test, y_train, y_test = train_test_split(X, y, test_size = 0.2, random_state = 42)\n",
    "\n",
    "vectorizer = CountVectorizer()\n",
    "X_train_vect = vectorizer.fit_transform(X_train)\n",
    "X_test_vect = vectorizer.transform(X_test)"
   ]
  },
  {
   "cell_type": "markdown",
   "id": "36d38f74",
   "metadata": {},
   "source": [
    "## Modelos"
   ]
  },
  {
   "cell_type": "markdown",
   "id": "efa68715",
   "metadata": {},
   "source": [
    "### Logistic Regression"
   ]
  },
  {
   "cell_type": "code",
   "execution_count": 23,
   "id": "b956426c",
   "metadata": {},
   "outputs": [],
   "source": [
    "lr = LogisticRegression(max_iter = 1000)\n",
    "lr.fit(X_train_vect, y_train)\n",
    "y_pred_lr = lr.predict(X_test_vect)"
   ]
  },
  {
   "cell_type": "markdown",
   "id": "8c9b147e",
   "metadata": {},
   "source": [
    "### Random Forest"
   ]
  },
  {
   "cell_type": "code",
   "execution_count": 27,
   "id": "dce141f4",
   "metadata": {},
   "outputs": [],
   "source": [
    "rf = RandomForestClassifier(n_estimators = 100, random_state = 42)\n",
    "rf.fit(X_train_vect, y_train)\n",
    "y_pred_rf = rf.predict(X_test_vect)"
   ]
  },
  {
   "cell_type": "markdown",
   "id": "0ab7b9b5",
   "metadata": {},
   "source": [
    "### XGBoost"
   ]
  },
  {
   "cell_type": "code",
   "execution_count": 28,
   "id": "04cc71a6",
   "metadata": {},
   "outputs": [
    {
     "name": "stderr",
     "output_type": "stream",
     "text": [
      "c:\\Users\\Angel Resendiz Plata\\AppData\\Local\\Programs\\Python\\Python311\\Lib\\site-packages\\xgboost\\training.py:199: UserWarning: [00:24:29] WARNING: C:\\actions-runner\\_work\\xgboost\\xgboost\\src\\learner.cc:790: \n",
      "Parameters: { \"use_label_encoder\" } are not used.\n",
      "\n",
      "  bst.update(dtrain, iteration=i, fobj=obj)\n"
     ]
    }
   ],
   "source": [
    "xgb_model = xgb.XGBClassifier(use_label_encoder = False, eval_metric = \"logloss\")\n",
    "xgb_model.fit(X_train_vect, y_train)\n",
    "y_pred_xgb = xgb_model.predict(X_test_vect)"
   ]
  },
  {
   "cell_type": "markdown",
   "id": "88b19682",
   "metadata": {},
   "source": [
    "## Comparación entre modelos"
   ]
  },
  {
   "cell_type": "code",
   "execution_count": 30,
   "id": "d468c317",
   "metadata": {},
   "outputs": [
    {
     "name": "stdout",
     "output_type": "stream",
     "text": [
      "                Modelo  Precisión\n",
      "0  Logistic Regression   0.938333\n",
      "1        Random Forest   0.948333\n",
      "2              XGBoost   0.916667\n"
     ]
    }
   ],
   "source": [
    "results = pd.DataFrame({\n",
    "    \"Modelo\": [\"Logistic Regression\", \"Random Forest\", \"XGBoost\"],\n",
    "    \"Precisión\": [\n",
    "        accuracy_score(y_test, y_pred_lr),\n",
    "        accuracy_score(y_test, y_pred_rf),\n",
    "        accuracy_score(y_test, y_pred_xgb)\n",
    "    ]\n",
    "})\n",
    "\n",
    "print(results)"
   ]
  },
  {
   "cell_type": "markdown",
   "id": "9992c5eb",
   "metadata": {},
   "source": [
    "## Guardar los modelos"
   ]
  },
  {
   "cell_type": "code",
   "execution_count": 34,
   "id": "74a791db",
   "metadata": {},
   "outputs": [],
   "source": [
    "import os\n",
    "\n",
    "# Craer la carpeta\n",
    "os.makedirs(\"outputs\", exist_ok = True)"
   ]
  },
  {
   "cell_type": "code",
   "execution_count": 35,
   "id": "fe9bac03",
   "metadata": {},
   "outputs": [],
   "source": [
    "results.to_csv(\"outputs/results_table.csv\", index = False)"
   ]
  },
  {
   "cell_type": "markdown",
   "id": "a46c2ec8",
   "metadata": {},
   "source": []
  },
  {
   "cell_type": "markdown",
   "id": "e162b7f8",
   "metadata": {},
   "source": []
  },
  {
   "cell_type": "markdown",
   "id": "ba712fe0",
   "metadata": {},
   "source": []
  },
  {
   "cell_type": "markdown",
   "id": "30f0a200",
   "metadata": {},
   "source": []
  },
  {
   "cell_type": "markdown",
   "id": "db122625",
   "metadata": {},
   "source": []
  }
 ],
 "metadata": {
  "kernelspec": {
   "display_name": "Python 3",
   "language": "python",
   "name": "python3"
  },
  "language_info": {
   "codemirror_mode": {
    "name": "ipython",
    "version": 3
   },
   "file_extension": ".py",
   "mimetype": "text/x-python",
   "name": "python",
   "nbconvert_exporter": "python",
   "pygments_lexer": "ipython3",
   "version": "3.11.0"
  }
 },
 "nbformat": 4,
 "nbformat_minor": 5
}
